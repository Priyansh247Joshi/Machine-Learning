{
  "nbformat": 4,
  "nbformat_minor": 0,
  "metadata": {
    "colab": {
      "name": "MaxAbsScaler.ipynb",
      "provenance": [],
      "collapsed_sections": []
    },
    "kernelspec": {
      "name": "python3",
      "display_name": "Python 3"
    }
  },
  "cells": [
    {
      "cell_type": "code",
      "metadata": {
        "id": "bTSouUplHWTA",
        "colab_type": "code",
        "colab": {}
      },
      "source": [
        "from sklearn import preprocessing\n",
        "import numpy as np"
      ],
      "execution_count": 1,
      "outputs": []
    },
    {
      "cell_type": "code",
      "metadata": {
        "id": "RgHBLqerHnOh",
        "colab_type": "code",
        "colab": {}
      },
      "source": [
        "x=np.array([[-500.5],[-100.1],[0],[100.1],[900.9]])"
      ],
      "execution_count": 2,
      "outputs": []
    },
    {
      "cell_type": "code",
      "metadata": {
        "id": "hmpZhphnIDXV",
        "colab_type": "code",
        "colab": {
          "base_uri": "https://localhost:8080/",
          "height": 101
        },
        "outputId": "6158e81f-6ed8-4144-92b1-c401abe25bb9"
      },
      "source": [
        "maxabs=preprocessing.MaxAbsScaler()\n",
        "x_scaled=maxabs.fit_transform(x)\n",
        "print(x_scaled)"
      ],
      "execution_count": 3,
      "outputs": [
        {
          "output_type": "stream",
          "text": [
            "[[-0.55555556]\n",
            " [-0.11111111]\n",
            " [ 0.        ]\n",
            " [ 0.11111111]\n",
            " [ 1.        ]]\n"
          ],
          "name": "stdout"
        }
      ]
    },
    {
      "cell_type": "code",
      "metadata": {
        "id": "dEhWbR6OIRCT",
        "colab_type": "code",
        "colab": {}
      },
      "source": [
        "x1=np.array([[1,2,3],[-4,5,-6],[7,-8,9]])"
      ],
      "execution_count": 4,
      "outputs": []
    },
    {
      "cell_type": "code",
      "metadata": {
        "id": "g8APF3mUIaTn",
        "colab_type": "code",
        "colab": {
          "base_uri": "https://localhost:8080/",
          "height": 67
        },
        "outputId": "669affc6-04bd-4c90-8c0a-e6db586edef8"
      },
      "source": [
        "x_scaled1=maxabs.fit_transform(x1)\n",
        "print(x_scaled1)"
      ],
      "execution_count": 5,
      "outputs": [
        {
          "output_type": "stream",
          "text": [
            "[[ 0.14285714  0.25        0.33333333]\n",
            " [-0.57142857  0.625      -0.66666667]\n",
            " [ 1.         -1.          1.        ]]\n"
          ],
          "name": "stdout"
        }
      ]
    },
    {
      "cell_type": "code",
      "metadata": {
        "id": "Jn9M5Xw4Impb",
        "colab_type": "code",
        "colab": {}
      },
      "source": [
        "import pandas as pd"
      ],
      "execution_count": 7,
      "outputs": []
    },
    {
      "cell_type": "code",
      "metadata": {
        "id": "u2ekO8n-Ixfg",
        "colab_type": "code",
        "colab": {
          "base_uri": "https://localhost:8080/",
          "height": 101
        },
        "outputId": "d3762fef-fa25-4a0c-d4a8-a3ca3c08d2ea"
      },
      "source": [
        "df=pd.DataFrame(np.random.randn(4,5),columns=np.arange(5))\n",
        "print(df)"
      ],
      "execution_count": 9,
      "outputs": [
        {
          "output_type": "stream",
          "text": [
            "          0         1         2         3         4\n",
            "0 -0.376364  0.202652  0.435225 -0.117076 -1.242801\n",
            "1  1.381476 -1.597553  0.125535  2.052219 -0.266235\n",
            "2  1.430332 -1.227324  0.643463  0.409984 -0.648673\n",
            "3  0.454877  0.458113 -0.423107 -1.614137 -1.364378\n"
          ],
          "name": "stdout"
        }
      ]
    },
    {
      "cell_type": "code",
      "metadata": {
        "id": "qKZh-QsIJAU-",
        "colab_type": "code",
        "colab": {
          "base_uri": "https://localhost:8080/",
          "height": 84
        },
        "outputId": "3950602e-107c-4a74-be2a-652bcc3238ff"
      },
      "source": [
        "x_scaled2=maxabs.fit_transform(df)\n",
        "print(x_scaled2)"
      ],
      "execution_count": 10,
      "outputs": [
        {
          "output_type": "stream",
          "text": [
            "[[-0.2631304   0.12685128  0.67637862 -0.0570484  -0.91089198]\n",
            " [ 0.96584342 -1.          0.19509272  1.         -0.19513306]\n",
            " [ 1.         -0.76825218  1.          0.19977622 -0.47543469]\n",
            " [ 0.31802241  0.2867588  -0.65754662 -0.78653272 -1.        ]]\n"
          ],
          "name": "stdout"
        }
      ]
    },
    {
      "cell_type": "code",
      "metadata": {
        "id": "UfXUE9KvJLZ0",
        "colab_type": "code",
        "colab": {}
      },
      "source": [
        ""
      ],
      "execution_count": null,
      "outputs": []
    }
  ]
}